{
 "metadata": {
  "language_info": {
   "codemirror_mode": {
    "name": "ipython",
    "version": 3
   },
   "file_extension": ".py",
   "mimetype": "text/x-python",
   "name": "python",
   "nbconvert_exporter": "python",
   "pygments_lexer": "ipython3",
   "version": "3.6.10-final"
  },
  "orig_nbformat": 2,
  "kernelspec": {
   "name": "python3",
   "display_name": "Python 3"
  }
 },
 "nbformat": 4,
 "nbformat_minor": 2,
 "cells": [
  {
   "source": [
    "# Load models and make predictions with a new dataset"
   ],
   "cell_type": "markdown",
   "metadata": {}
  },
  {
   "cell_type": "code",
   "execution_count": 3,
   "metadata": {},
   "outputs": [],
   "source": [
    "import pandas as pd \n",
    "import pickle\n",
    "import importlib"
   ]
  },
  {
   "cell_type": "code",
   "execution_count": 26,
   "metadata": {},
   "outputs": [],
   "source": [
    "import prediction\n",
    "importlib.reload(sys.modules['prediction']);\n",
    "from prediction import transform_eval, pred_eval, save_pred"
   ]
  },
  {
   "cell_type": "code",
   "execution_count": 14,
   "metadata": {},
   "outputs": [],
   "source": [
    "dim_pca = 20\n",
    "features = [\"user_verified\", \"user_statuses_count\", \"user_followers_count\", \"user_friends_count\",\"num_hashtags\", \"num_mentions\", \"positive\", \"neutral\", \"negative\", \"length\", \"hashtag_score\"]\n",
    "features.extend(['PCA'+str(i) for i in range(1,dim_pca+1)])"
   ]
  },
  {
   "cell_type": "code",
   "execution_count": 5,
   "metadata": {},
   "outputs": [],
   "source": [
    "classifier = pickle.load(open('saved_models/classifier', 'rb'))\n",
    "regressor = pickle.load(open('saved_models/regressor', 'rb'))"
   ]
  },
  {
   "cell_type": "code",
   "execution_count": 24,
   "metadata": {},
   "outputs": [
    {
     "output_type": "display_data",
     "data": {
      "text/plain": "HBox(children=(HTML(value=''), FloatProgress(value=0.0, max=285334.0), HTML(value='')))",
      "application/vnd.jupyter.widget-view+json": {
       "version_major": 2,
       "version_minor": 0,
       "model_id": "69d9b4a0a89246d799d8af07df5a496e"
      }
     },
     "metadata": {}
    },
    {
     "output_type": "stream",
     "name": "stdout",
     "text": [
      "\n"
     ]
    }
   ],
   "source": [
    "# Change path to make predictions with a new dataset\n",
    "\n",
    "eval_df_new = pd.read_csv(\"data/evaluation.csv\")  \n",
    "eval_transformed = transform_eval(new_eval_df)\n",
    "eval_features = eval_transformed[features]"
   ]
  },
  {
   "cell_type": "code",
   "execution_count": 27,
   "metadata": {},
   "outputs": [],
   "source": [
    "y_pred_new = pred_eval(classifier, regressor, eval_features)\n",
    "save_pred(eval_df_new, y_pred_new, filename=\"predictions_new.txt\")"
   ]
  },
  {
   "cell_type": "code",
   "execution_count": null,
   "metadata": {},
   "outputs": [],
   "source": []
  }
 ]
}