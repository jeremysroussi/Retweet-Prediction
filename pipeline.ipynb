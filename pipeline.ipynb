{
 "cells": [
  {
   "cell_type": "markdown",
   "metadata": {},
   "source": [
    "# This notebook contains an example of a complete execution using classes in .py files"
   ]
  },
  {
   "cell_type": "code",
   "execution_count": 1,
   "metadata": {},
   "outputs": [],
   "source": [
    "import pandas as pd\n",
    "import numpy as np\n",
    "import matplotlib.pyplot as plt\n",
    "import seaborn as sns\n",
    "import csv\n",
    "import importlib\n",
    "import sys\n",
    "import pickle\n",
    "\n",
    "from verstack.stratified_continuous_split import scsplit "
   ]
  },
  {
   "cell_type": "code",
   "execution_count": null,
   "metadata": {},
   "outputs": [],
   "source": [
    "# If there is a change in .py files while jupyter is running, run this cell\n",
    "import feature_extraction, classification, regression, prediction\n",
    "\n",
    "importlib.reload(sys.modules['feature_extraction'])\n",
    "importlib.reload(sys.modules['classification'])\n",
    "importlib.reload(sys.modules['regression']);\n",
    "importlib.reload(sys.modules['prediction']);"
   ]
  },
  {
   "cell_type": "code",
   "execution_count": null,
   "metadata": {},
   "outputs": [],
   "source": [
    "from feature_extraction import FeatureExtraction, FeatureExtraction_Text\n",
    "from classification import Classification, classifier_performance \n",
    "from regression import Regression, model_performance\n",
    "from prediction import transform_eval, pred_eval, save_pred"
   ]
  },
  {
   "cell_type": "markdown",
   "metadata": {},
   "source": [
    "## 1. Feature selection and extraction"
   ]
  },
  {
   "source": [
    "### • First computation for trainset transformation\n",
    "\n",
    "If you are using this notebook for the first time, run these cells. "
   ],
   "cell_type": "markdown",
   "metadata": {}
  },
  {
   "cell_type": "code",
   "execution_count": 5,
   "metadata": {},
   "outputs": [],
   "source": [
    "train_data = pd.read_csv('data/train.csv')"
   ]
  },
  {
   "cell_type": "code",
   "execution_count": 6,
   "metadata": {},
   "outputs": [
    {
     "output_type": "display_data",
     "data": {
      "text/plain": "HBox(children=(HTML(value=''), FloatProgress(value=0.0, max=665777.0), HTML(value='')))",
      "application/vnd.jupyter.widget-view+json": {
       "version_major": 2,
       "version_minor": 0,
       "model_id": "b54b6972a0e442e19daa185828608a28"
      }
     },
     "metadata": {}
    },
    {
     "output_type": "stream",
     "name": "stdout",
     "text": [
      "\n"
     ]
    }
   ],
   "source": [
    "FE = FeatureExtraction(train_data)\n",
    "FE.transform()"
   ]
  },
  {
   "cell_type": "code",
   "execution_count": 7,
   "metadata": {},
   "outputs": [],
   "source": [
    "max_features=100\n",
    "dim_pca=20\n",
    "FE_text = FeatureExtraction_Text(df=train_data, max_features=max_features, dim_pca=dim_pca)\n",
    "FE_text.fit()"
   ]
  },
  {
   "cell_type": "code",
   "execution_count": 8,
   "metadata": {},
   "outputs": [],
   "source": [
    "#save FE_text for eval prediction\n",
    "pickle.dump(FE_text, open('FeatureExtraction_Text_train','wb'))"
   ]
  },
  {
   "cell_type": "code",
   "execution_count": 9,
   "metadata": {},
   "outputs": [],
   "source": [
    "FE_text.transform(df=train_data)"
   ]
  },
  {
   "cell_type": "code",
   "execution_count": 10,
   "metadata": {},
   "outputs": [],
   "source": [
    "features_df = pd.concat([FE.transformed_df, FE_text.transformed_df], axis=1)\n",
    "features_df.to_csv(\"data/train_features.csv\", index=False)"
   ]
  },
  {
   "cell_type": "code",
   "execution_count": 14,
   "metadata": {},
   "outputs": [],
   "source": [
    "'''\n",
    "map = pd.DataFrame(FE_text.pca.components_, index=range(1,dim_pca+1), columns=FE_text.vectorizer.get_feature_names())\n",
    "plt.figure(figsize=(20,8))\n",
    "sns.heatmap(map,cmap='Reds')\n",
    "plt.show()\n",
    "''';"
   ]
  },
  {
   "cell_type": "markdown",
   "metadata": {},
   "source": []
  },
  {
   "source": [
    "### • Resume with already-calculated features\n",
    "\n",
    "Instead of transforming the data again, we import the already-calculated features (for details check the FeatureExtraction class)."
   ],
   "cell_type": "markdown",
   "metadata": {}
  },
  {
   "cell_type": "code",
   "execution_count": null,
   "metadata": {},
   "outputs": [],
   "source": [
    "features_df = pd.read_csv(\"data/train_features.csv\", index_col=0)"
   ]
  },
  {
   "source": [
    "### Choose features"
   ],
   "cell_type": "markdown",
   "metadata": {}
  },
  {
   "cell_type": "code",
   "execution_count": 15,
   "metadata": {},
   "outputs": [],
   "source": [
    "dim_pca = 20\n",
    "features = [\"user_verified\", \"user_statuses_count\", \"user_followers_count\", \"user_friends_count\",\"num_hashtags\", \"num_mentions\", \"positive\", \"neutral\", \"negative\", \"length\", \"hashtag_score\"]\n",
    "features.extend(['PCA'+str(i) for i in range(1,dim_pca+1)])"
   ]
  },
  {
   "source": [
    "## 2. Train / Test Split"
   ],
   "cell_type": "markdown",
   "metadata": {}
  },
  {
   "cell_type": "code",
   "execution_count": 16,
   "metadata": {},
   "outputs": [],
   "source": [
    "def label(count, bins):\n",
    "    \"\"\"Assign a class to a number of retweets.\n",
    "\n",
    "    Args:\n",
    "        count (int): number of retweets \n",
    "        bins (list): list of thresholds\n",
    "    Returns:\n",
    "        int: class number\n",
    "    \"\"\"\n",
    "    \n",
    "    for i, elm in enumerate(bins):\n",
    "        if count <= elm:\n",
    "            return i\n",
    "    return i+1 "
   ]
  },
  {
   "cell_type": "code",
   "execution_count": 24,
   "metadata": {},
   "outputs": [],
   "source": [
    "bins = [0] #only two classes: 0 or non\n",
    "features_df[\"class\"] = features_df[\"retweet_count\"].apply(lambda x: label(x, bins))\n",
    "\n",
    "X = pd.concat([features_df[features], features_df[\"retweet_count\"]], axis=1)\n",
    "Y = features_df[[\"class\"]] \n",
    "\n",
    "X_train, X_test, y_train, y_test = scsplit(X, Y[\"class\"], stratify=Y[\"class\"], test_size=0.2, random_state=0, continuous=False)\n",
    "\n",
    "y_train_class = pd.DataFrame(y_train, columns=[\"class\"])\n",
    "y_test_class = pd.DataFrame(y_test, columns=[\"class\"])\n",
    "\n",
    "y_train = X_train[\"retweet_count\"]\n",
    "y_test = X_test[\"retweet_count\"]\n",
    "\n",
    "X_train = X_train[features]\n",
    "X_test = X_test[features]\n",
    "X_test.reset_index(drop=True, inplace=True)\n",
    "y_test.reset_index(drop=True, inplace=True)"
   ]
  },
  {
   "source": [
    "## 3. Classification based on retweet_count"
   ],
   "cell_type": "markdown",
   "metadata": {}
  },
  {
   "cell_type": "code",
   "execution_count": 25,
   "metadata": {},
   "outputs": [],
   "source": [
    "classifier = Classification(bins)\n",
    "classifier.classify(X_train, y_train_class)"
   ]
  },
  {
   "cell_type": "code",
   "execution_count": null,
   "metadata": {},
   "outputs": [],
   "source": [
    "importances = classifier.model.feature_importances_\n",
    "indices = (-importances).argsort()[:10]\n",
    "\n",
    "fig = plt.figure(figsize=(8, 5))\n",
    "plt.title('Feature Importances')\n",
    "plt.barh(range(len(indices)), importances[indices], color='b', align='center')\n",
    "plt.yticks(range(len(indices)), [features[i] for i in indices])\n",
    "plt.xlabel('Relative Importance')\n",
    "plt.show()"
   ]
  },
  {
   "cell_type": "markdown",
   "metadata": {},
   "source": [
    "## 4. Regression"
   ]
  },
  {
   "cell_type": "code",
   "execution_count": 27,
   "metadata": {},
   "outputs": [
    {
     "output_type": "display_data",
     "data": {
      "text/plain": "HBox(children=(HTML(value=''), FloatProgress(value=0.0, max=11.0), HTML(value='')))",
      "application/vnd.jupyter.widget-view+json": {
       "version_major": 2,
       "version_minor": 0,
       "model_id": "8f47f5dda4854c97b61099bd5989334e"
      }
     },
     "metadata": {}
    },
    {
     "output_type": "stream",
     "name": "stdout",
     "text": [
      "\n"
     ]
    }
   ],
   "source": [
    "regressor = Regression(bins = [5e2,1e3,5e3,1e4,5e4,1e5,5e5,1e6,5e6,1e7])\n",
    "regressor.regression_per_class(X_train, y_train, features)"
   ]
  },
  {
   "cell_type": "markdown",
   "metadata": {},
   "source": [
    "## 5. Performance"
   ]
  },
  {
   "cell_type": "code",
   "execution_count": 26,
   "metadata": {},
   "outputs": [
    {
     "output_type": "stream",
     "name": "stdout",
     "text": [
      "              precision    recall  f1-score   support\n\n           0       0.96      0.98      0.97     84561\n          +0       0.96      0.93      0.95     48595\n\n    accuracy                           0.96    133156\n   macro avg       0.96      0.96      0.96    133156\nweighted avg       0.96      0.96      0.96    133156\n\n"
     ]
    }
   ],
   "source": [
    "classifier_performance(classifier, X_test, y_test_class)"
   ]
  },
  {
   "cell_type": "code",
   "execution_count": 43,
   "metadata": {},
   "outputs": [
    {
     "output_type": "stream",
     "name": "stdout",
     "text": [
      "Prediction error (MAE):\n",
      "0 : 36.68 - 85877\n",
      "For non zero prediction, regression based on user_followers_count:\n",
      "≤ 500.0 : 57.32 - 6786\n",
      "≤ 1000.0 : 90.25 - 2941\n",
      "≤ 5000.0 : 217.44 - 10181\n",
      "≤ 10000.0 : 146.08 - 4671\n",
      "≤ 50000.0 : 260.78 - 9251\n",
      "≤ 100000.0 : 355.1 - 3054\n",
      "≤ 500000.0 : 490.64 - 5275\n",
      "≤ 1000000.0 : 855.68 - 1499\n",
      "≤ 5000000.0 : 976.36 - 2310\n",
      "≤ 10000000.0 : 858.07 - 646\n",
      "+10000000.0 : 2466.55 - 665\n",
      "Overall: 139.06931351612292\n"
     ]
    }
   ],
   "source": [
    "model_performance(classifier, regressor, features, X_test, y_test)"
   ]
  },
  {
   "cell_type": "markdown",
   "metadata": {},
   "source": [
    "## 6. Predictions on eval data"
   ]
  },
  {
   "cell_type": "markdown",
   "metadata": {},
   "source": [
    "### • First computation for evalset transformation"
   ]
  },
  {
   "cell_type": "code",
   "execution_count": 31,
   "metadata": {},
   "outputs": [],
   "source": [
    "eval_data = pd.read_csv(\"data/evaluation.csv\")"
   ]
  },
  {
   "cell_type": "code",
   "execution_count": 32,
   "metadata": {},
   "outputs": [
    {
     "output_type": "display_data",
     "data": {
      "text/plain": "HBox(children=(HTML(value=''), FloatProgress(value=0.0, max=285334.0), HTML(value='')))",
      "application/vnd.jupyter.widget-view+json": {
       "version_major": 2,
       "version_minor": 0,
       "model_id": "84703fdb09a743e58729b6e4ee2abc28"
      }
     },
     "metadata": {}
    },
    {
     "output_type": "stream",
     "name": "stdout",
     "text": [
      "\n"
     ]
    }
   ],
   "source": [
    "eval_df = transform_eval(eval_data)\n",
    "eval_df.to_csv(\"data/eval_features.csv\", index=False)"
   ]
  },
  {
   "cell_type": "markdown",
   "metadata": {},
   "source": [
    "### • Continue\n",
    "\n",
    "Same as before, to save time we import already transformed evaluation data."
   ]
  },
  {
   "cell_type": "code",
   "execution_count": 34,
   "metadata": {
    "scrolled": false
   },
   "outputs": [],
   "source": [
    "eval_df = pd.read_csv(\"data/eval_features.csv\")"
   ]
  },
  {
   "cell_type": "code",
   "execution_count": 39,
   "metadata": {},
   "outputs": [],
   "source": [
    "y_pred_eval = pred_eval(classifier, regressor, eval_df[features])"
   ]
  },
  {
   "cell_type": "code",
   "execution_count": 40,
   "metadata": {},
   "outputs": [
    {
     "output_type": "execute_result",
     "data": {
      "text/plain": [
       "                pred\n",
       "count  285334.000000\n",
       "mean       20.551865\n",
       "std       317.949479\n",
       "min         0.000000\n",
       "25%         0.000000\n",
       "50%         0.000000\n",
       "75%         2.876603\n",
       "max     34238.924089"
      ],
      "text/html": "<div>\n<style scoped>\n    .dataframe tbody tr th:only-of-type {\n        vertical-align: middle;\n    }\n\n    .dataframe tbody tr th {\n        vertical-align: top;\n    }\n\n    .dataframe thead th {\n        text-align: right;\n    }\n</style>\n<table border=\"1\" class=\"dataframe\">\n  <thead>\n    <tr style=\"text-align: right;\">\n      <th></th>\n      <th>pred</th>\n    </tr>\n  </thead>\n  <tbody>\n    <tr>\n      <th>count</th>\n      <td>285334.000000</td>\n    </tr>\n    <tr>\n      <th>mean</th>\n      <td>20.551865</td>\n    </tr>\n    <tr>\n      <th>std</th>\n      <td>317.949479</td>\n    </tr>\n    <tr>\n      <th>min</th>\n      <td>0.000000</td>\n    </tr>\n    <tr>\n      <th>25%</th>\n      <td>0.000000</td>\n    </tr>\n    <tr>\n      <th>50%</th>\n      <td>0.000000</td>\n    </tr>\n    <tr>\n      <th>75%</th>\n      <td>2.876603</td>\n    </tr>\n    <tr>\n      <th>max</th>\n      <td>34238.924089</td>\n    </tr>\n  </tbody>\n</table>\n</div>"
     },
     "metadata": {},
     "execution_count": 40
    }
   ],
   "source": [
    "y_pred_eval.describe()"
   ]
  },
  {
   "cell_type": "code",
   "execution_count": 46,
   "metadata": {},
   "outputs": [],
   "source": [
    "save_pred(eval_df, y_pred_eval, filename=\"predictions.txt\")"
   ]
  },
  {
   "source": [
    "## 7. Save models"
   ],
   "cell_type": "markdown",
   "metadata": {}
  },
  {
   "cell_type": "code",
   "execution_count": 29,
   "metadata": {},
   "outputs": [],
   "source": [
    "def save_model(classifier, regressor):\n",
    "    pickle.dump(classifier, open(\"saved_models/classifier\", 'wb'))\n",
    "    pickle.dump(regressor, open(\"saved_models/regressor\",'wb'))"
   ]
  },
  {
   "cell_type": "code",
   "execution_count": 30,
   "metadata": {},
   "outputs": [],
   "source": [
    "save_model(classifier, regressor)"
   ]
  },
  {
   "cell_type": "code",
   "execution_count": null,
   "metadata": {},
   "outputs": [],
   "source": []
  }
 ],
 "metadata": {
  "kernelspec": {
   "display_name": "Python 3",
   "language": "python",
   "name": "python3"
  },
  "language_info": {
   "codemirror_mode": {
    "name": "ipython",
    "version": 3
   },
   "file_extension": ".py",
   "mimetype": "text/x-python",
   "name": "python",
   "nbconvert_exporter": "python",
   "pygments_lexer": "ipython3",
   "version": "3.6.10-final"
  }
 },
 "nbformat": 4,
 "nbformat_minor": 2
}